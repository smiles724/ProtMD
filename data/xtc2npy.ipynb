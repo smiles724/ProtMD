{
 "cells": [
  {
   "cell_type": "markdown",
   "id": "5d5076ee-5eb1-4fef-a68b-b4712d2ea92b",
   "metadata": {},
   "source": [
    "### Gromacs MD轨迹处理"
   ]
  },
  {
   "cell_type": "code",
   "execution_count": null,
   "id": "d465a1fb-233f-4289-a2bf-596b679bcd6e",
   "metadata": {},
   "outputs": [],
   "source": [
    "# conda install -c conda-forge mdanalysis\n",
    "import torch \n",
    "import MDAnalysis as mda"
   ]
  },
  {
   "cell_type": "code",
   "execution_count": 3,
   "id": "b87e1e52-8d6d-4234-9979-26c5d274a261",
   "metadata": {},
   "outputs": [
    {
     "name": "stdout",
     "output_type": "stream",
     "text": [
      "<Universe with 9364 atoms>\n",
      "10000\n"
     ]
    }
   ],
   "source": [
    "# load the topological file\n",
    "u = mda.Universe('./protein_conf.gro', ['./protein_snap_every200ps_00to02us.xtc'])\n",
    "print(u)\n",
    "print(len(u.trajectory))"
   ]
  },
  {
   "cell_type": "code",
   "execution_count": 6,
   "id": "25f73084-26bf-42c7-8654-e13d102f561f",
   "metadata": {},
   "outputs": [
    {
     "data": {
      "text/plain": [
       "{'frame': 0,\n",
       " '_n_atoms': 9364,\n",
       " 'data': {'time': 200.00003051757812, 'step': 80000, 'dt': 200.00003051757812},\n",
       " '_has_positions': True,\n",
       " '_has_velocities': False,\n",
       " '_has_forces': False,\n",
       " '_has_dimensions': False,\n",
       " '_pos': array([[36.54    , 46.43    , 34.940002],\n",
       "        [36.600002, 45.480003, 35.25    ],\n",
       "        [35.58    , 46.47    , 34.620003],\n",
       "        ...,\n",
       "        [69.350006, 37.280003, 63.440002],\n",
       "        [68.9     , 37.58    , 64.600006],\n",
       "        [69.44    , 36.14    , 62.890007]], dtype=float32),\n",
       " '_unitcell': array([99.892105, 99.892105, 99.892105, 90.      , 90.      , 90.      ],\n",
       "       dtype=float32),\n",
       " 'aux': {}}"
      ]
     },
     "execution_count": 6,
     "metadata": {},
     "output_type": "execute_result"
    }
   ],
   "source": [
    "u.trajectory[0].__dict__"
   ]
  },
  {
   "cell_type": "code",
   "execution_count": 7,
   "id": "ff809e98-8217-4f00-bafc-d2e76a07eedc",
   "metadata": {},
   "outputs": [],
   "source": [
    "# 将velocities的属性设为True\n",
    "u.trajectory.ts.has_velocities = True\n",
    "u.trajectory[0].__dict__"
   ]
  },
  {
   "cell_type": "code",
   "execution_count": 43,
   "id": "963a7297-412f-44e9-b003-24ef072cc5f0",
   "metadata": {},
   "outputs": [
    {
     "name": "stdout",
     "output_type": "stream",
     "text": [
      "9364 5\n"
     ]
    }
   ],
   "source": [
    "atom_class = {}\n",
    "atoms = []\n",
    "\n",
    "for i in u.atoms.types:\n",
    "    if i not in atom_class.keys():\n",
    "        atoms.append(len(atom_class) + 1)\n",
    "        atom_class[i] = len(atom_class) + 1\n",
    "    else:\n",
    "        atoms.append(atom_class[i])\n",
    "\n",
    "atoms = torch.tensor(atoms)\n",
    "print(atoms.shape, len(atom_class))"
   ]
  },
  {
   "cell_type": "code",
   "execution_count": 42,
   "id": "a4271b00-9f54-4dd3-914e-22ca49e883c2",
   "metadata": {},
   "outputs": [],
   "source": [
    "vel = []\n",
    "for i in range(len(u.trajectory) - 1):\n",
    "    vel.append(torch.tensor(u.trajectory[i + 1]._pos)  - torch.tensor(u.trajectory[i]._pos))"
   ]
  },
  {
   "cell_type": "code",
   "execution_count": 45,
   "id": "0374d252-0668-472a-9618-841b82ad96d4",
   "metadata": {},
   "outputs": [],
   "source": [
    "vel.append(torch.tensor(u.trajectory[-1]._pos))"
   ]
  },
  {
   "cell_type": "code",
   "execution_count": 47,
   "id": "e4a59e1b-cad5-4a6f-976f-518843cb5bb5",
   "metadata": {},
   "outputs": [
    {
     "data": {
      "text/plain": [
       "torch.Size([10000, 9364, 3])"
      ]
     },
     "execution_count": 47,
     "metadata": {},
     "output_type": "execute_result"
    }
   ],
   "source": [
    "vel = torch.stack(vel)\n",
    "vel.shape"
   ]
  },
  {
   "cell_type": "code",
   "execution_count": 49,
   "id": "aec48d00-cced-4177-ac3e-86b0ebf2d9c2",
   "metadata": {},
   "outputs": [
    {
     "data": {
      "text/plain": [
       "torch.Size([10000, 9364, 3])"
      ]
     },
     "execution_count": 49,
     "metadata": {},
     "output_type": "execute_result"
    }
   ],
   "source": [
    "pos = []\n",
    "for i in range(len(u.trajectory)):\n",
    "    pos.append(torch.tensor(u.trajectory[i]._pos))\n",
    "\n",
    "pos = torch.stack(pos)\n",
    "pos.shape"
   ]
  },
  {
   "cell_type": "code",
   "execution_count": 50,
   "id": "881d54ef-9962-49f8-823f-d4106e03efec",
   "metadata": {},
   "outputs": [],
   "source": [
    "torch.save([atoms, pos, vel], 'trajectory_10K.pt')"
   ]
  },
  {
   "cell_type": "code",
   "execution_count": 62,
   "id": "31bdf195-6b3d-4e66-81a7-55ad3dee33c0",
   "metadata": {},
   "outputs": [],
   "source": [
    "import numpy as np"
   ]
  },
  {
   "cell_type": "code",
   "execution_count": 63,
   "id": "8585e13d-cbe6-4831-b790-13caa5dc6eab",
   "metadata": {},
   "outputs": [],
   "source": [
    "np.savez('trajetory_10K', atoms=atoms.numpy(), pos=pos.numpy, vel=vel.numpy())"
   ]
  },
  {
   "cell_type": "code",
   "execution_count": 61,
   "id": "c05fdd95-d324-48d7-bbbc-7399aa38d233",
   "metadata": {},
   "outputs": [
    {
     "data": {
      "text/plain": [
       "array([1, 2, 2, ..., 3, 4, 4])"
      ]
     },
     "execution_count": 61,
     "metadata": {},
     "output_type": "execute_result"
    }
   ],
   "source": [
    "atoms.numpy(), pos.numpy, vel.numpy()"
   ]
  },
  {
   "cell_type": "code",
   "execution_count": null,
   "id": "16d602ea-5a05-4555-a64d-71d8d0d0543c",
   "metadata": {},
   "outputs": [],
   "source": []
  },
  {
   "cell_type": "code",
   "execution_count": null,
   "id": "5f97267d-0b72-48b9-b57b-25541c2dfed9",
   "metadata": {},
   "outputs": [],
   "source": []
  }
 ],
 "metadata": {
  "kernelspec": {
   "display_name": "Python 3",
   "language": "python",
   "name": "python3"
  },
  "language_info": {
   "codemirror_mode": {
    "name": "ipython",
    "version": 3
   },
   "file_extension": ".py",
   "mimetype": "text/x-python",
   "name": "python",
   "nbconvert_exporter": "python",
   "pygments_lexer": "ipython3",
   "version": "3.7.10"
  },
  "toc-autonumbering": true,
  "toc-showcode": true,
  "toc-showmarkdowntxt": true
 },
 "nbformat": 4,
 "nbformat_minor": 5
}
